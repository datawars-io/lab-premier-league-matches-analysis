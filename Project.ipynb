{
 "cells": [
  {
   "cell_type": "markdown",
   "metadata": {},
   "source": [
    "# Lab: Premier League matches analysis "
   ]
  },
  {
   "cell_type": "markdown",
   "metadata": {},
   "source": [
    "<img src=\"images/dataset-cover.jpg\"></img>\n",
    "\n",
    "## About Dataset\n",
    "Context\n",
    "Official football data organised and formatted in csv files ready for download is quite hard to come by. Stats providers are hesitant to release their data to anyone and everyone, even if it's for academic purposes. That was my exact dilemma which prompted me to scrape and extract it myself. Now that it's at your disposal, have fun with it.\n",
    "\n",
    "## Content\n",
    "The data was acquired from the Premier League website and is representative of seasons 2006/2007 to 2017/2018. Visit both sets to get a detailed description of what each entails.\n",
    "\n"
   ]
  },
  {
   "cell_type": "code",
   "execution_count": 1,
   "metadata": {},
   "outputs": [],
   "source": [
    "import pandas as pd"
   ]
  },
  {
   "cell_type": "code",
   "execution_count": 2,
   "metadata": {},
   "outputs": [
    {
     "data": {
      "text/html": [
       "<div>\n",
       "<style scoped>\n",
       "    .dataframe tbody tr th:only-of-type {\n",
       "        vertical-align: middle;\n",
       "    }\n",
       "\n",
       "    .dataframe tbody tr th {\n",
       "        vertical-align: top;\n",
       "    }\n",
       "\n",
       "    .dataframe thead th {\n",
       "        text-align: right;\n",
       "    }\n",
       "</style>\n",
       "<table border=\"1\" class=\"dataframe\">\n",
       "  <thead>\n",
       "    <tr style=\"text-align: right;\">\n",
       "      <th></th>\n",
       "      <th>home_team</th>\n",
       "      <th>away_team</th>\n",
       "      <th>home_goals</th>\n",
       "      <th>away_goals</th>\n",
       "      <th>result</th>\n",
       "      <th>season</th>\n",
       "    </tr>\n",
       "  </thead>\n",
       "  <tbody>\n",
       "    <tr>\n",
       "      <th>0</th>\n",
       "      <td>Sheffield United</td>\n",
       "      <td>Liverpool</td>\n",
       "      <td>1</td>\n",
       "      <td>1</td>\n",
       "      <td>D</td>\n",
       "      <td>2006-2007</td>\n",
       "    </tr>\n",
       "    <tr>\n",
       "      <th>1</th>\n",
       "      <td>Arsenal</td>\n",
       "      <td>Aston Villa</td>\n",
       "      <td>1</td>\n",
       "      <td>1</td>\n",
       "      <td>D</td>\n",
       "      <td>2006-2007</td>\n",
       "    </tr>\n",
       "    <tr>\n",
       "      <th>2</th>\n",
       "      <td>Everton</td>\n",
       "      <td>Watford</td>\n",
       "      <td>2</td>\n",
       "      <td>1</td>\n",
       "      <td>H</td>\n",
       "      <td>?</td>\n",
       "    </tr>\n",
       "    <tr>\n",
       "      <th>3</th>\n",
       "      <td>Newcastle United</td>\n",
       "      <td>Wigan Athletic</td>\n",
       "      <td>2</td>\n",
       "      <td>1</td>\n",
       "      <td>H</td>\n",
       "      <td>2006-2007</td>\n",
       "    </tr>\n",
       "    <tr>\n",
       "      <th>4</th>\n",
       "      <td>Portsmouth</td>\n",
       "      <td>Blackburn Rovers</td>\n",
       "      <td>3</td>\n",
       "      <td>0</td>\n",
       "      <td>H</td>\n",
       "      <td>2006-2007</td>\n",
       "    </tr>\n",
       "    <tr>\n",
       "      <th>...</th>\n",
       "      <td>...</td>\n",
       "      <td>...</td>\n",
       "      <td>...</td>\n",
       "      <td>...</td>\n",
       "      <td>...</td>\n",
       "      <td>...</td>\n",
       "    </tr>\n",
       "    <tr>\n",
       "      <th>4555</th>\n",
       "      <td>Newcastle United</td>\n",
       "      <td>Chelsea</td>\n",
       "      <td>3</td>\n",
       "      <td>0</td>\n",
       "      <td>H</td>\n",
       "      <td>2017-2018</td>\n",
       "    </tr>\n",
       "    <tr>\n",
       "      <th>4556</th>\n",
       "      <td>Southampton</td>\n",
       "      <td>Manchester City</td>\n",
       "      <td>0</td>\n",
       "      <td>1</td>\n",
       "      <td>A</td>\n",
       "      <td>2017-2018</td>\n",
       "    </tr>\n",
       "    <tr>\n",
       "      <th>4557</th>\n",
       "      <td>Swansea City</td>\n",
       "      <td>Stoke City</td>\n",
       "      <td>1</td>\n",
       "      <td>2</td>\n",
       "      <td>A</td>\n",
       "      <td>2017-2018</td>\n",
       "    </tr>\n",
       "    <tr>\n",
       "      <th>4558</th>\n",
       "      <td>Tottenham Hotspur</td>\n",
       "      <td>Leicester City</td>\n",
       "      <td>5</td>\n",
       "      <td>4</td>\n",
       "      <td>H</td>\n",
       "      <td>2017-2018</td>\n",
       "    </tr>\n",
       "    <tr>\n",
       "      <th>4559</th>\n",
       "      <td>West Ham United</td>\n",
       "      <td>Everton</td>\n",
       "      <td>3</td>\n",
       "      <td>1</td>\n",
       "      <td>H</td>\n",
       "      <td>2017-2018</td>\n",
       "    </tr>\n",
       "  </tbody>\n",
       "</table>\n",
       "<p>4560 rows × 6 columns</p>\n",
       "</div>"
      ],
      "text/plain": [
       "              home_team         away_team  home_goals  away_goals result  \\\n",
       "0      Sheffield United         Liverpool           1           1      D   \n",
       "1               Arsenal       Aston Villa           1           1      D   \n",
       "2               Everton           Watford           2           1      H   \n",
       "3      Newcastle United    Wigan Athletic           2           1      H   \n",
       "4            Portsmouth  Blackburn Rovers           3           0      H   \n",
       "...                 ...               ...         ...         ...    ...   \n",
       "4555   Newcastle United           Chelsea           3           0      H   \n",
       "4556        Southampton   Manchester City           0           1      A   \n",
       "4557       Swansea City        Stoke City           1           2      A   \n",
       "4558  Tottenham Hotspur    Leicester City           5           4      H   \n",
       "4559    West Ham United           Everton           3           1      H   \n",
       "\n",
       "         season  \n",
       "0     2006-2007  \n",
       "1     2006-2007  \n",
       "2             ?  \n",
       "3     2006-2007  \n",
       "4     2006-2007  \n",
       "...         ...  \n",
       "4555  2017-2018  \n",
       "4556  2017-2018  \n",
       "4557  2017-2018  \n",
       "4558  2017-2018  \n",
       "4559  2017-2018  \n",
       "\n",
       "[4560 rows x 6 columns]"
      ]
     },
     "execution_count": 2,
     "metadata": {},
     "output_type": "execute_result"
    }
   ],
   "source": [
    "df = pd.read_csv('premier-league-data.csv')\n",
    "df"
   ]
  },
  {
   "cell_type": "markdown",
   "metadata": {},
   "source": [
    "> `result` could be `H: Home team won`, `A: Away team won`, `D: Draw`"
   ]
  },
  {
   "cell_type": "markdown",
   "metadata": {},
   "source": [
    "---\n",
    "## TASK 1\n",
    "\n",
    "Can you find any match belonging to an invalid season?\n",
    "\n",
    "If yes, go ahead and set \"Unknown season\" to the matches with invalid season.\n",
    "\n",
    "**a) (correct)** 31 matches have an incorrect season value\n",
    "\n",
    "b) 27 matches have an incorrect season value\n",
    "\n",
    "c) 43 matches have an incorrect season value\n",
    "\n",
    "d) There is not incorrect season values\n",
    "\n",
    "---\n",
    "### Hint\n",
    "\n",
    "Check unique values for the `season` column and analyze if every value seems to be a valid season name.\n",
    "\n",
    "---\n",
    "### Solution"
   ]
  },
  {
   "cell_type": "code",
   "execution_count": 3,
   "metadata": {},
   "outputs": [
    {
     "data": {
      "text/plain": [
       "2011-2012    380\n",
       "2007-2008    380\n",
       "2015-2016    380\n",
       "2016-2017    380\n",
       "2012-2013    380\n",
       "2013-2014    380\n",
       "2009-2010    380\n",
       "2010-2011    380\n",
       "2014-2015    380\n",
       "2017-2018    380\n",
       "2008-2009    380\n",
       "2006-2007    349\n",
       "?             31\n",
       "Name: season, dtype: int64"
      ]
     },
     "execution_count": 3,
     "metadata": {},
     "output_type": "execute_result"
    }
   ],
   "source": [
    "df['season'].value_counts()"
   ]
  },
  {
   "cell_type": "code",
   "execution_count": 4,
   "metadata": {},
   "outputs": [],
   "source": [
    "df.loc[df[\"season\"] == \"?\", 'season'] = \"Unknown season\""
   ]
  },
  {
   "cell_type": "code",
   "execution_count": 5,
   "metadata": {},
   "outputs": [
    {
     "data": {
      "text/plain": [
       "2011-2012         380\n",
       "2007-2008         380\n",
       "2015-2016         380\n",
       "2016-2017         380\n",
       "2012-2013         380\n",
       "2013-2014         380\n",
       "2009-2010         380\n",
       "2010-2011         380\n",
       "2014-2015         380\n",
       "2017-2018         380\n",
       "2008-2009         380\n",
       "2006-2007         349\n",
       "Unknown season     31\n",
       "Name: season, dtype: int64"
      ]
     },
     "execution_count": 5,
     "metadata": {},
     "output_type": "execute_result"
    }
   ],
   "source": [
    "df[\"season\"].value_counts()"
   ]
  },
  {
   "cell_type": "markdown",
   "metadata": {},
   "source": [
    "---\n",
    "## TASK 2\n",
    "\n",
    "Now it is time to check match scores. To do that we will analyze `home_goals` and `away_goals` columns to see if we find any match with wrong goals meassurement.\n",
    "\n",
    "Did you find any match with invalid goals amount?\n",
    "\n",
    "If yes, remove the entire row as we can't infer match results.\n",
    "\n",
    "How many invalid values you found?\n",
    "\n",
    "**a) (correct)** 34 invalid `home_goals` and 39 invalid `away_goals` values\n",
    "\n",
    "b) 27 invalid `home_goals` and 43 invalid `away_goals` values\n",
    "\n",
    "c) 41 invalid `home_goals` and 24 invalid `away_goals` values\n",
    "\n",
    "d) 12 invalid `home_goals` and 19 invalid `away_goals` values\n",
    "\n",
    "---\n",
    "### Hint\n",
    "\n",
    "Check the amount of `home_goals` and `away_goals` per match. A valid amount of goals is 0 or a positive amount.\n",
    "\n",
    "---\n",
    "### Solution"
   ]
  },
  {
   "cell_type": "code",
   "execution_count": 6,
   "metadata": {},
   "outputs": [
    {
     "data": {
      "text/plain": [
       " 1    1436\n",
       " 2    1119\n",
       " 0    1050\n",
       " 3     568\n",
       " 4     232\n",
       " 5      75\n",
       " 6      30\n",
       "-2      21\n",
       " 7      10\n",
       "-1       9\n",
       " 8       5\n",
       "-4       4\n",
       " 9       1\n",
       "Name: home_goals, dtype: int64"
      ]
     },
     "execution_count": 6,
     "metadata": {},
     "output_type": "execute_result"
    }
   ],
   "source": [
    "df['home_goals'].value_counts()"
   ]
  },
  {
   "cell_type": "code",
   "execution_count": 7,
   "metadata": {},
   "outputs": [
    {
     "data": {
      "text/plain": [
       "34"
      ]
     },
     "execution_count": 7,
     "metadata": {},
     "output_type": "execute_result"
    }
   ],
   "source": [
    "df.loc[df['home_goals'] < 0].shape[0]"
   ]
  },
  {
   "cell_type": "code",
   "execution_count": 8,
   "metadata": {},
   "outputs": [],
   "source": [
    "df = df.loc[df['home_goals'] >= 0]"
   ]
  },
  {
   "cell_type": "code",
   "execution_count": 9,
   "metadata": {},
   "outputs": [
    {
     "data": {
      "text/plain": [
       " 0    1549\n",
       " 1    1532\n",
       " 2     854\n",
       " 3     380\n",
       " 4     127\n",
       " 5      31\n",
       "-2      28\n",
       " 6      13\n",
       "-1       6\n",
       "-4       5\n",
       " 7       1\n",
       "Name: away_goals, dtype: int64"
      ]
     },
     "execution_count": 9,
     "metadata": {},
     "output_type": "execute_result"
    }
   ],
   "source": [
    "df['away_goals'].value_counts()"
   ]
  },
  {
   "cell_type": "code",
   "execution_count": 10,
   "metadata": {},
   "outputs": [
    {
     "data": {
      "text/plain": [
       "39"
      ]
     },
     "execution_count": 10,
     "metadata": {},
     "output_type": "execute_result"
    }
   ],
   "source": [
    "df.loc[df['away_goals'] < 0].shape[0]"
   ]
  },
  {
   "cell_type": "code",
   "execution_count": 11,
   "metadata": {},
   "outputs": [],
   "source": [
    "df = df.loc[df['away_goals'] >= 0]"
   ]
  },
  {
   "cell_type": "markdown",
   "metadata": {},
   "source": [
    "---\n",
    "## TASK 3\n",
    "\n",
    "Match result `result` could be `H: Home team won`, `A: Away team won`, `D: Draw`.\n",
    "\n",
    "Check if all the matches have a correct result value.\n",
    "\n",
    "If you find any incorrect result, update it with the correct value.\n",
    "\n",
    "How many incorrect match result values you found?\n",
    "\n",
    "\n",
    "**a) (correct)** 43 incorrect match results\n",
    "\n",
    "b) 38 incorrect match results\n",
    "\n",
    "c) 47 incorrect match results\n",
    "\n",
    "d) 32 incorrect match results\n",
    "\n",
    "---\n",
    "### Hint\n",
    "\n",
    "You can check `home_goals` and `away_goals` to define the match `result`.\n",
    "\n",
    "Use the `apply()` pandas method to iterate over every match and update the `result` column.\n",
    "\n",
    "---\n",
    "### Solution"
   ]
  },
  {
   "cell_type": "code",
   "execution_count": 12,
   "metadata": {},
   "outputs": [
    {
     "data": {
      "text/plain": [
       "H    2055\n",
       "A    1259\n",
       "D    1130\n",
       "?      43\n",
       "Name: result, dtype: int64"
      ]
     },
     "execution_count": 12,
     "metadata": {},
     "output_type": "execute_result"
    }
   ],
   "source": [
    "df['result'].value_counts()"
   ]
  },
  {
   "cell_type": "code",
   "execution_count": 13,
   "metadata": {},
   "outputs": [
    {
     "data": {
      "text/plain": [
       "H    2075\n",
       "A    1269\n",
       "D    1143\n",
       "Name: result, dtype: int64"
      ]
     },
     "execution_count": 13,
     "metadata": {},
     "output_type": "execute_result"
    }
   ],
   "source": [
    "def set_result(match):\n",
    "    if match['home_goals'] > match['away_goals']:\n",
    "        match['result'] = 'H'\n",
    "    elif match['home_goals'] < match['away_goals']:\n",
    "        match['result'] = 'A'\n",
    "    else:\n",
    "        match['result'] = 'D'\n",
    "    \n",
    "    return match\n",
    "    \n",
    "df.apply(lambda match: set_result(match), axis=1)['result'].value_counts()"
   ]
  },
  {
   "cell_type": "markdown",
   "metadata": {},
   "source": [
    "---\n",
    "## TASK 4\n",
    "\n",
    "What's the average amount of goals per match?\n",
    "\n",
    "**a) (correct)** 2.68 goals per match\n",
    "\n",
    "b) 2.34 goals per match\n",
    "\n",
    "c) 1.89 goals per match\n",
    "\n",
    "d) 3.13 goals per match\n",
    "\n",
    "---\n",
    "### Hint\n",
    "\n",
    "---\n",
    "### Solution"
   ]
  },
  {
   "cell_type": "code",
   "execution_count": 14,
   "metadata": {},
   "outputs": [
    {
     "data": {
      "text/plain": [
       "2.68"
      ]
     },
     "execution_count": 14,
     "metadata": {},
     "output_type": "execute_result"
    }
   ],
   "source": [
    "round(df.mean().sum(), 2)"
   ]
  },
  {
   "cell_type": "markdown",
   "metadata": {},
   "source": [
    "---\n",
    "## TASK 5\n",
    "\n",
    "Calculate the average amount of goals per season.\n",
    "\n",
    "Which is the season with the lowest average of goals?\n",
    "\n",
    "**a) (correct)** Season 2006-2007\n",
    "\n",
    "b) Season 2017-2018\n",
    "\n",
    "c) Season 2009-2010\n",
    "\n",
    "d) Season 2015-2016\n",
    "\n",
    "---\n",
    "### Hint\n",
    "\n",
    "---\n",
    "### Solution"
   ]
  },
  {
   "cell_type": "code",
   "execution_count": 15,
   "metadata": {},
   "outputs": [
    {
     "data": {
      "text/plain": [
       "season\n",
       "2006-2007         2.446377\n",
       "2008-2009         2.470899\n",
       "Unknown season    2.482759\n",
       "2014-2015         2.558011\n",
       "2007-2008         2.632000\n",
       "2017-2018         2.678947\n",
       "2015-2016         2.716981\n",
       "2013-2014         2.749326\n",
       "2011-2012         2.767380\n",
       "2012-2013         2.794667\n",
       "2009-2010         2.795148\n",
       "2016-2017         2.796296\n",
       "2010-2011         2.801587\n",
       "dtype: float64"
      ]
     },
     "execution_count": 15,
     "metadata": {},
     "output_type": "execute_result"
    }
   ],
   "source": [
    "df.groupby('season').mean().sum(axis=1).sort_values()"
   ]
  },
  {
   "cell_type": "markdown",
   "metadata": {},
   "source": [
    "---\n",
    "## TASK 6\n",
    "\n",
    "What's the historical biggest goal difference?\n",
    "\n",
    "**a) (correct)** 8 goals of difference\n",
    "\n",
    "b) 10 goals of difference\n",
    "\n",
    "c) 12 goals of difference\n",
    "\n",
    "d) 14 goals of difference\n",
    "\n",
    "---\n",
    "### Hint\n",
    "\n",
    "---\n",
    "### Solution"
   ]
  },
  {
   "cell_type": "code",
   "execution_count": 16,
   "metadata": {},
   "outputs": [
    {
     "data": {
      "text/plain": [
       "1265    8\n",
       "2458    8\n",
       "1514    8\n",
       "3116    8\n",
       "1497    7\n",
       "       ..\n",
       "1110    0\n",
       "1111    0\n",
       "2365    0\n",
       "4058    0\n",
       "0       0\n",
       "Length: 4487, dtype: int64"
      ]
     },
     "execution_count": 16,
     "metadata": {},
     "output_type": "execute_result"
    }
   ],
   "source": [
    "abs(df['home_goals'] - df['away_goals']).sort_values(ascending=False)"
   ]
  },
  {
   "cell_type": "code",
   "execution_count": 17,
   "metadata": {},
   "outputs": [
    {
     "data": {
      "text/html": [
       "<div>\n",
       "<style scoped>\n",
       "    .dataframe tbody tr th:only-of-type {\n",
       "        vertical-align: middle;\n",
       "    }\n",
       "\n",
       "    .dataframe tbody tr th {\n",
       "        vertical-align: top;\n",
       "    }\n",
       "\n",
       "    .dataframe thead th {\n",
       "        text-align: right;\n",
       "    }\n",
       "</style>\n",
       "<table border=\"1\" class=\"dataframe\">\n",
       "  <thead>\n",
       "    <tr style=\"text-align: right;\">\n",
       "      <th></th>\n",
       "      <th>home_team</th>\n",
       "      <th>away_team</th>\n",
       "      <th>home_goals</th>\n",
       "      <th>away_goals</th>\n",
       "      <th>result</th>\n",
       "      <th>season</th>\n",
       "    </tr>\n",
       "  </thead>\n",
       "  <tbody>\n",
       "    <tr>\n",
       "      <th>1265</th>\n",
       "      <td>Tottenham Hotspur</td>\n",
       "      <td>Wigan Athletic</td>\n",
       "      <td>9</td>\n",
       "      <td>1</td>\n",
       "      <td>H</td>\n",
       "      <td>2009-2010</td>\n",
       "    </tr>\n",
       "    <tr>\n",
       "      <th>1514</th>\n",
       "      <td>Chelsea</td>\n",
       "      <td>Wigan Athletic</td>\n",
       "      <td>8</td>\n",
       "      <td>0</td>\n",
       "      <td>H</td>\n",
       "      <td>2009-2010</td>\n",
       "    </tr>\n",
       "    <tr>\n",
       "      <th>2458</th>\n",
       "      <td>Chelsea</td>\n",
       "      <td>Aston Villa</td>\n",
       "      <td>8</td>\n",
       "      <td>0</td>\n",
       "      <td>H</td>\n",
       "      <td>2012-2013</td>\n",
       "    </tr>\n",
       "    <tr>\n",
       "      <th>3116</th>\n",
       "      <td>Southampton</td>\n",
       "      <td>Sunderland</td>\n",
       "      <td>8</td>\n",
       "      <td>0</td>\n",
       "      <td>H</td>\n",
       "      <td>2014-2015</td>\n",
       "    </tr>\n",
       "  </tbody>\n",
       "</table>\n",
       "</div>"
      ],
      "text/plain": [
       "              home_team       away_team  home_goals  away_goals result  \\\n",
       "1265  Tottenham Hotspur  Wigan Athletic           9           1      H   \n",
       "1514            Chelsea  Wigan Athletic           8           0      H   \n",
       "2458            Chelsea     Aston Villa           8           0      H   \n",
       "3116        Southampton      Sunderland           8           0      H   \n",
       "\n",
       "         season  \n",
       "1265  2009-2010  \n",
       "1514  2009-2010  \n",
       "2458  2012-2013  \n",
       "3116  2014-2015  "
      ]
     },
     "execution_count": 17,
     "metadata": {},
     "output_type": "execute_result"
    }
   ],
   "source": [
    "condition = list(df.reset_index()[\"index\"].isin([1265, 2458, 1514, 3116]))\n",
    "\n",
    "df.loc[condition]"
   ]
  },
  {
   "cell_type": "markdown",
   "metadata": {},
   "source": [
    "---\n",
    "## TASK 7\n",
    "\n",
    "Which is the team with the most away wins? \n",
    "\n",
    "**a) (correct)** Chelsea\n",
    "\n",
    "b) Manchester United\n",
    "\n",
    "c) Arsenal\n",
    "\n",
    "d) Liverpool\n",
    "\n",
    "---\n",
    "### Hint\n",
    "\n",
    "---\n",
    "### Solution"
   ]
  },
  {
   "cell_type": "code",
   "execution_count": 18,
   "metadata": {},
   "outputs": [
    {
     "data": {
      "text/plain": [
       "away_team\n",
       "Chelsea                     118\n",
       "Manchester United           116\n",
       "Arsenal                     100\n",
       "Manchester City              98\n",
       "Liverpool                    94\n",
       "Tottenham Hotspur            89\n",
       "Everton                      64\n",
       "Aston Villa                  49\n",
       "West Ham United              41\n",
       "Newcastle United             39\n",
       "Sunderland                   34\n",
       "Stoke City                   34\n",
       "West Bromwich Albion         34\n",
       "Southampton                  33\n",
       "Swansea City                 30\n",
       "Wigan Athletic               28\n",
       "Crystal Palace               27\n",
       "Blackburn Rovers             26\n",
       "Bolton Wanderers             25\n",
       "Fulham                       22\n",
       "Leicester City               22\n",
       "Portsmouth                   16\n",
       "Watford                      15\n",
       "AFC Bournemouth              13\n",
       "Hull City                    12\n",
       "Burnley                      12\n",
       "Norwich City                 12\n",
       "Reading                       9\n",
       "Wolverhampton Wanderers       9\n",
       "Birmingham City               8\n",
       "Middlesbrough                 7\n",
       "Queens Park Rangers           7\n",
       "Blackpool                     5\n",
       "Huddersfield Town             3\n",
       "Sheffield United              3\n",
       "Cardiff City                  2\n",
       "Brighton and Hove Albion      2\n",
       "Charlton Athletic             1\n",
       "Derby County                  0\n",
       "dtype: int64"
      ]
     },
     "execution_count": 18,
     "metadata": {},
     "output_type": "execute_result"
    }
   ],
   "source": [
    "df.groupby('away_team').apply(lambda x: sum(x['result'] == 'A')).sort_values(ascending=False)"
   ]
  },
  {
   "cell_type": "markdown",
   "metadata": {},
   "source": [
    "---\n",
    "## TASK 8\n",
    "\n",
    "Wihch is the team with the most scored goals at home?\n",
    "\n",
    "**a) (correct)** Manchester City\n",
    "\n",
    "b) Manchester United\n",
    "\n",
    "c) Arsenal\n",
    "\n",
    "d) Chelsea\n",
    "\n",
    "---\n",
    "### Hint\n",
    "\n",
    "---\n",
    "### Solution"
   ]
  },
  {
   "cell_type": "code",
   "execution_count": 19,
   "metadata": {},
   "outputs": [
    {
     "data": {
      "text/html": [
       "<div>\n",
       "<style scoped>\n",
       "    .dataframe tbody tr th:only-of-type {\n",
       "        vertical-align: middle;\n",
       "    }\n",
       "\n",
       "    .dataframe tbody tr th {\n",
       "        vertical-align: top;\n",
       "    }\n",
       "\n",
       "    .dataframe thead th {\n",
       "        text-align: right;\n",
       "    }\n",
       "</style>\n",
       "<table border=\"1\" class=\"dataframe\">\n",
       "  <thead>\n",
       "    <tr style=\"text-align: right;\">\n",
       "      <th></th>\n",
       "      <th>home_goals</th>\n",
       "    </tr>\n",
       "    <tr>\n",
       "      <th>home_team</th>\n",
       "      <th></th>\n",
       "    </tr>\n",
       "  </thead>\n",
       "  <tbody>\n",
       "    <tr>\n",
       "      <th>Manchester City</th>\n",
       "      <td>491</td>\n",
       "    </tr>\n",
       "    <tr>\n",
       "      <th>Chelsea</th>\n",
       "      <td>486</td>\n",
       "    </tr>\n",
       "    <tr>\n",
       "      <th>Manchester United</th>\n",
       "      <td>480</td>\n",
       "    </tr>\n",
       "    <tr>\n",
       "      <th>Arsenal</th>\n",
       "      <td>470</td>\n",
       "    </tr>\n",
       "    <tr>\n",
       "      <th>Liverpool</th>\n",
       "      <td>455</td>\n",
       "    </tr>\n",
       "    <tr>\n",
       "      <th>Tottenham Hotspur</th>\n",
       "      <td>413</td>\n",
       "    </tr>\n",
       "    <tr>\n",
       "      <th>Everton</th>\n",
       "      <td>389</td>\n",
       "    </tr>\n",
       "    <tr>\n",
       "      <th>West Ham United</th>\n",
       "      <td>281</td>\n",
       "    </tr>\n",
       "    <tr>\n",
       "      <th>Newcastle United</th>\n",
       "      <td>264</td>\n",
       "    </tr>\n",
       "    <tr>\n",
       "      <th>Stoke City</th>\n",
       "      <td>243</td>\n",
       "    </tr>\n",
       "    <tr>\n",
       "      <th>Aston Villa</th>\n",
       "      <td>227</td>\n",
       "    </tr>\n",
       "    <tr>\n",
       "      <th>West Bromwich Albion</th>\n",
       "      <td>224</td>\n",
       "    </tr>\n",
       "    <tr>\n",
       "      <th>Sunderland</th>\n",
       "      <td>222</td>\n",
       "    </tr>\n",
       "    <tr>\n",
       "      <th>Fulham</th>\n",
       "      <td>211</td>\n",
       "    </tr>\n",
       "    <tr>\n",
       "      <th>Swansea City</th>\n",
       "      <td>179</td>\n",
       "    </tr>\n",
       "    <tr>\n",
       "      <th>Southampton</th>\n",
       "      <td>171</td>\n",
       "    </tr>\n",
       "    <tr>\n",
       "      <th>Blackburn Rovers</th>\n",
       "      <td>153</td>\n",
       "    </tr>\n",
       "    <tr>\n",
       "      <th>Bolton Wanderers</th>\n",
       "      <td>152</td>\n",
       "    </tr>\n",
       "    <tr>\n",
       "      <th>Wigan Athletic</th>\n",
       "      <td>139</td>\n",
       "    </tr>\n",
       "    <tr>\n",
       "      <th>Leicester City</th>\n",
       "      <td>117</td>\n",
       "    </tr>\n",
       "    <tr>\n",
       "      <th>Crystal Palace</th>\n",
       "      <td>111</td>\n",
       "    </tr>\n",
       "    <tr>\n",
       "      <th>Hull City</th>\n",
       "      <td>106</td>\n",
       "    </tr>\n",
       "    <tr>\n",
       "      <th>Portsmouth</th>\n",
       "      <td>102</td>\n",
       "    </tr>\n",
       "    <tr>\n",
       "      <th>Norwich City</th>\n",
       "      <td>93</td>\n",
       "    </tr>\n",
       "    <tr>\n",
       "      <th>Middlesbrough</th>\n",
       "      <td>92</td>\n",
       "    </tr>\n",
       "    <tr>\n",
       "      <th>Watford</th>\n",
       "      <td>89</td>\n",
       "    </tr>\n",
       "    <tr>\n",
       "      <th>AFC Bournemouth</th>\n",
       "      <td>83</td>\n",
       "    </tr>\n",
       "    <tr>\n",
       "      <th>Burnley</th>\n",
       "      <td>79</td>\n",
       "    </tr>\n",
       "    <tr>\n",
       "      <th>Reading</th>\n",
       "      <td>70</td>\n",
       "    </tr>\n",
       "    <tr>\n",
       "      <th>Birmingham City</th>\n",
       "      <td>67</td>\n",
       "    </tr>\n",
       "    <tr>\n",
       "      <th>Wolverhampton Wanderers</th>\n",
       "      <td>58</td>\n",
       "    </tr>\n",
       "    <tr>\n",
       "      <th>Queens Park Rangers</th>\n",
       "      <td>56</td>\n",
       "    </tr>\n",
       "    <tr>\n",
       "      <th>Blackpool</th>\n",
       "      <td>30</td>\n",
       "    </tr>\n",
       "    <tr>\n",
       "      <th>Brighton and Hove Albion</th>\n",
       "      <td>24</td>\n",
       "    </tr>\n",
       "    <tr>\n",
       "      <th>Sheffield United</th>\n",
       "      <td>23</td>\n",
       "    </tr>\n",
       "    <tr>\n",
       "      <th>Cardiff City</th>\n",
       "      <td>20</td>\n",
       "    </tr>\n",
       "    <tr>\n",
       "      <th>Charlton Athletic</th>\n",
       "      <td>19</td>\n",
       "    </tr>\n",
       "    <tr>\n",
       "      <th>Huddersfield Town</th>\n",
       "      <td>16</td>\n",
       "    </tr>\n",
       "    <tr>\n",
       "      <th>Derby County</th>\n",
       "      <td>12</td>\n",
       "    </tr>\n",
       "  </tbody>\n",
       "</table>\n",
       "</div>"
      ],
      "text/plain": [
       "                          home_goals\n",
       "home_team                           \n",
       "Manchester City                  491\n",
       "Chelsea                          486\n",
       "Manchester United                480\n",
       "Arsenal                          470\n",
       "Liverpool                        455\n",
       "Tottenham Hotspur                413\n",
       "Everton                          389\n",
       "West Ham United                  281\n",
       "Newcastle United                 264\n",
       "Stoke City                       243\n",
       "Aston Villa                      227\n",
       "West Bromwich Albion             224\n",
       "Sunderland                       222\n",
       "Fulham                           211\n",
       "Swansea City                     179\n",
       "Southampton                      171\n",
       "Blackburn Rovers                 153\n",
       "Bolton Wanderers                 152\n",
       "Wigan Athletic                   139\n",
       "Leicester City                   117\n",
       "Crystal Palace                   111\n",
       "Hull City                        106\n",
       "Portsmouth                       102\n",
       "Norwich City                      93\n",
       "Middlesbrough                     92\n",
       "Watford                           89\n",
       "AFC Bournemouth                   83\n",
       "Burnley                           79\n",
       "Reading                           70\n",
       "Birmingham City                   67\n",
       "Wolverhampton Wanderers           58\n",
       "Queens Park Rangers               56\n",
       "Blackpool                         30\n",
       "Brighton and Hove Albion          24\n",
       "Sheffield United                  23\n",
       "Cardiff City                      20\n",
       "Charlton Athletic                 19\n",
       "Huddersfield Town                 16\n",
       "Derby County                      12"
      ]
     },
     "execution_count": 19,
     "metadata": {},
     "output_type": "execute_result"
    }
   ],
   "source": [
    "df[['home_team', 'home_goals']].groupby('home_team').sum().sort_values('home_goals', ascending=False)"
   ]
  },
  {
   "cell_type": "code",
   "execution_count": null,
   "metadata": {},
   "outputs": [],
   "source": []
  }
 ],
 "metadata": {
  "kernelspec": {
   "display_name": "Python 3",
   "language": "python",
   "name": "python3"
  },
  "language_info": {
   "codemirror_mode": {
    "name": "ipython",
    "version": 3
   },
   "file_extension": ".py",
   "mimetype": "text/x-python",
   "name": "python",
   "nbconvert_exporter": "python",
   "pygments_lexer": "ipython3",
   "version": "3.8.6"
  }
 },
 "nbformat": 4,
 "nbformat_minor": 4
}
