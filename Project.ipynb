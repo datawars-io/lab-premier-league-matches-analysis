{
 "cells": [
  {
   "cell_type": "markdown",
   "id": "e0e6fc65-057f-4134-be7f-5f2464f94fe7",
   "metadata": {},
   "source": [
    "# Lab: Premier League matches analysis "
   ]
  },
  {
   "cell_type": "markdown",
   "id": "a57664ca-62aa-4b15-8be2-d594b64f2494",
   "metadata": {
    "tags": []
   },
   "source": [
    "![](images/dataset-cover.jpg)\n",
    "\n",
    "This project deals with some Data Cleaning, Data Wrangling and finally some Data Analysis of Premier League data. The Premier League is the top tier football/soccer competition in England, and also considered to be one of the most important leagues in the world.\n",
    "\n",
    "You'll find that the data is broken in some pieces, your job will be to fix the issues and then do some data analysis with it."
   ]
  },
  {
   "cell_type": "code",
   "execution_count": 3,
   "id": "36473022-d9c1-447d-a1d5-8a103a823879",
   "metadata": {},
   "outputs": [],
   "source": [
    "import numpy as np\n",
    "import pandas as pd"
   ]
  },
  {
   "cell_type": "code",
   "execution_count": 4,
   "id": "166f8baa-a4ef-47d4-9302-6272688745bb",
   "metadata": {},
   "outputs": [
    {
     "data": {
      "text/html": [
       "<div>\n",
       "<style scoped>\n",
       "    .dataframe tbody tr th:only-of-type {\n",
       "        vertical-align: middle;\n",
       "    }\n",
       "\n",
       "    .dataframe tbody tr th {\n",
       "        vertical-align: top;\n",
       "    }\n",
       "\n",
       "    .dataframe thead th {\n",
       "        text-align: right;\n",
       "    }\n",
       "</style>\n",
       "<table border=\"1\" class=\"dataframe\">\n",
       "  <thead>\n",
       "    <tr style=\"text-align: right;\">\n",
       "      <th></th>\n",
       "      <th>home_team</th>\n",
       "      <th>away_team</th>\n",
       "      <th>home_goals</th>\n",
       "      <th>away_goals</th>\n",
       "      <th>result</th>\n",
       "      <th>season</th>\n",
       "    </tr>\n",
       "  </thead>\n",
       "  <tbody>\n",
       "    <tr>\n",
       "      <th>0</th>\n",
       "      <td>Sheffield United</td>\n",
       "      <td>Liverpool</td>\n",
       "      <td>1</td>\n",
       "      <td>1</td>\n",
       "      <td>D</td>\n",
       "      <td>2006-2007</td>\n",
       "    </tr>\n",
       "    <tr>\n",
       "      <th>1</th>\n",
       "      <td>Arsenal</td>\n",
       "      <td>Aston Villa</td>\n",
       "      <td>1</td>\n",
       "      <td>1</td>\n",
       "      <td>D</td>\n",
       "      <td>2006-2007</td>\n",
       "    </tr>\n",
       "    <tr>\n",
       "      <th>2</th>\n",
       "      <td>Everton</td>\n",
       "      <td>Watford</td>\n",
       "      <td>2</td>\n",
       "      <td>1</td>\n",
       "      <td>H</td>\n",
       "      <td>?</td>\n",
       "    </tr>\n",
       "    <tr>\n",
       "      <th>3</th>\n",
       "      <td>Newcastle United</td>\n",
       "      <td>Wigan Athletic</td>\n",
       "      <td>2</td>\n",
       "      <td>1</td>\n",
       "      <td>H</td>\n",
       "      <td>2006-2007</td>\n",
       "    </tr>\n",
       "    <tr>\n",
       "      <th>4</th>\n",
       "      <td>Portsmouth</td>\n",
       "      <td>Blackburn Rovers</td>\n",
       "      <td>3</td>\n",
       "      <td>0</td>\n",
       "      <td>H</td>\n",
       "      <td>2006-2007</td>\n",
       "    </tr>\n",
       "    <tr>\n",
       "      <th>...</th>\n",
       "      <td>...</td>\n",
       "      <td>...</td>\n",
       "      <td>...</td>\n",
       "      <td>...</td>\n",
       "      <td>...</td>\n",
       "      <td>...</td>\n",
       "    </tr>\n",
       "    <tr>\n",
       "      <th>4555</th>\n",
       "      <td>Newcastle United</td>\n",
       "      <td>Chelsea</td>\n",
       "      <td>3</td>\n",
       "      <td>0</td>\n",
       "      <td>H</td>\n",
       "      <td>2017-2018</td>\n",
       "    </tr>\n",
       "    <tr>\n",
       "      <th>4556</th>\n",
       "      <td>Southampton</td>\n",
       "      <td>Manchester City</td>\n",
       "      <td>0</td>\n",
       "      <td>1</td>\n",
       "      <td>A</td>\n",
       "      <td>2017-2018</td>\n",
       "    </tr>\n",
       "    <tr>\n",
       "      <th>4557</th>\n",
       "      <td>Swansea City</td>\n",
       "      <td>Stoke City</td>\n",
       "      <td>1</td>\n",
       "      <td>2</td>\n",
       "      <td>A</td>\n",
       "      <td>2017-2018</td>\n",
       "    </tr>\n",
       "    <tr>\n",
       "      <th>4558</th>\n",
       "      <td>Tottenham Hotspur</td>\n",
       "      <td>Leicester City</td>\n",
       "      <td>5</td>\n",
       "      <td>4</td>\n",
       "      <td>H</td>\n",
       "      <td>2017-2018</td>\n",
       "    </tr>\n",
       "    <tr>\n",
       "      <th>4559</th>\n",
       "      <td>West Ham United</td>\n",
       "      <td>Everton</td>\n",
       "      <td>3</td>\n",
       "      <td>1</td>\n",
       "      <td>H</td>\n",
       "      <td>2017-2018</td>\n",
       "    </tr>\n",
       "  </tbody>\n",
       "</table>\n",
       "<p>4560 rows × 6 columns</p>\n",
       "</div>"
      ],
      "text/plain": [
       "              home_team         away_team  home_goals  away_goals result  \\\n",
       "0      Sheffield United         Liverpool           1           1      D   \n",
       "1               Arsenal       Aston Villa           1           1      D   \n",
       "2               Everton           Watford           2           1      H   \n",
       "3      Newcastle United    Wigan Athletic           2           1      H   \n",
       "4            Portsmouth  Blackburn Rovers           3           0      H   \n",
       "...                 ...               ...         ...         ...    ...   \n",
       "4555   Newcastle United           Chelsea           3           0      H   \n",
       "4556        Southampton   Manchester City           0           1      A   \n",
       "4557       Swansea City        Stoke City           1           2      A   \n",
       "4558  Tottenham Hotspur    Leicester City           5           4      H   \n",
       "4559    West Ham United           Everton           3           1      H   \n",
       "\n",
       "         season  \n",
       "0     2006-2007  \n",
       "1     2006-2007  \n",
       "2             ?  \n",
       "3     2006-2007  \n",
       "4     2006-2007  \n",
       "...         ...  \n",
       "4555  2017-2018  \n",
       "4556  2017-2018  \n",
       "4557  2017-2018  \n",
       "4558  2017-2018  \n",
       "4559  2017-2018  \n",
       "\n",
       "[4560 rows x 6 columns]"
      ]
     },
     "execution_count": 4,
     "metadata": {},
     "output_type": "execute_result"
    }
   ],
   "source": [
    "df = pd.read_csv('premier-league-data.csv')\n",
    "df"
   ]
  },
  {
   "cell_type": "markdown",
   "id": "96a497cd-d0ea-4280-87e1-07393872b887",
   "metadata": {},
   "source": [
    "#### Analyze shape and type of data"
   ]
  },
  {
   "cell_type": "code",
   "execution_count": 6,
   "id": "c7672d12-128b-4cc0-b236-d168b6015f51",
   "metadata": {},
   "outputs": [
    {
     "data": {
      "text/plain": [
       "(4560, 6)"
      ]
     },
     "execution_count": 6,
     "metadata": {},
     "output_type": "execute_result"
    }
   ],
   "source": [
    "df.shape"
   ]
  },
  {
   "cell_type": "markdown",
   "id": "265ec166-dd3e-49db-aa29-330875b9946e",
   "metadata": {},
   "source": [
    "There are a total of 4,560 matches logged"
   ]
  },
  {
   "cell_type": "code",
   "execution_count": 5,
   "id": "c3b5e429-34f9-47ad-9579-665ac08e32da",
   "metadata": {},
   "outputs": [
    {
     "name": "stdout",
     "output_type": "stream",
     "text": [
      "<class 'pandas.core.frame.DataFrame'>\n",
      "RangeIndex: 4560 entries, 0 to 4559\n",
      "Data columns (total 6 columns):\n",
      " #   Column      Non-Null Count  Dtype \n",
      "---  ------      --------------  ----- \n",
      " 0   home_team   4560 non-null   object\n",
      " 1   away_team   4560 non-null   object\n",
      " 2   home_goals  4560 non-null   int64 \n",
      " 3   away_goals  4560 non-null   int64 \n",
      " 4   result      4560 non-null   object\n",
      " 5   season      4560 non-null   object\n",
      "dtypes: int64(2), object(4)\n",
      "memory usage: 213.9+ KB\n"
     ]
    }
   ],
   "source": [
    "df.info()"
   ]
  },
  {
   "cell_type": "markdown",
   "id": "37f1d1e9-a15d-485c-9d0f-97553e4bf8a7",
   "metadata": {},
   "source": [
    "### Task 1: Invalid seasons\n",
    "\n",
    "Explore the `season` column. Are there any invalid values? How many?\n",
    "\n",
    "* 31 matches with an invalid season\n",
    "* 27 matches with an invalid season\n",
    "* 43 matches with an invalid season\n",
    "* There are no invalid values in the `season` column\n",
    "\n",
    "If you find any invalid values, replace them for the value `\"Unknown Season\"`."
   ]
  },
  {
   "cell_type": "code",
   "execution_count": null,
   "id": "31c96192-4d2a-49bf-b505-9877f4d94411",
   "metadata": {},
   "outputs": [],
   "source": []
  },
  {
   "cell_type": "code",
   "execution_count": null,
   "id": "d00be4ee-4fb0-4dcb-9da1-810f6d6903b5",
   "metadata": {},
   "outputs": [],
   "source": []
  },
  {
   "cell_type": "code",
   "execution_count": null,
   "id": "90f7c4a2-2264-437f-bf95-d8251cca22ca",
   "metadata": {},
   "outputs": [],
   "source": []
  },
  {
   "cell_type": "markdown",
   "id": "c396dcdd-9ed4-4508-a0e6-6abd067ba5d4",
   "metadata": {
    "jp-MarkdownHeadingCollapsed": true,
    "tags": []
   },
   "source": [
    "##### Solution"
   ]
  },
  {
   "cell_type": "markdown",
   "id": "d289eb53-31f3-4ca6-ab3b-239f220f06fe",
   "metadata": {},
   "source": [
    "The answer is 31 matches, that have the invalid season value ?.\n",
    "\n",
    "Let's start by exploring the season column using the `value_counts()` method:"
   ]
  },
  {
   "cell_type": "code",
   "execution_count": 7,
   "id": "e0473f6c-df0f-42c6-a3fe-453b82949832",
   "metadata": {},
   "outputs": [
    {
     "data": {
      "text/plain": [
       "2007-2008    380\n",
       "2008-2009    380\n",
       "2009-2010    380\n",
       "2010-2011    380\n",
       "2011-2012    380\n",
       "2012-2013    380\n",
       "2013-2014    380\n",
       "2014-2015    380\n",
       "2015-2016    380\n",
       "2016-2017    380\n",
       "2017-2018    380\n",
       "2006-2007    349\n",
       "?             31\n",
       "Name: season, dtype: int64"
      ]
     },
     "execution_count": 7,
     "metadata": {},
     "output_type": "execute_result"
    }
   ],
   "source": [
    "df[\"season\"].value_counts()"
   ]
  },
  {
   "cell_type": "markdown",
   "id": "aed189fd-fbce-43b3-ad62-74468346ae8d",
   "metadata": {},
   "source": [
    "You can clearly see all the seasons have the year-year pattern, but there are a total of `31` matches with the `?` value.\n",
    "\n",
    "Finally, to replace the values we can do:"
   ]
  },
  {
   "cell_type": "code",
   "execution_count": 8,
   "id": "7dc340c5-bb09-4051-ac58-49062c179511",
   "metadata": {},
   "outputs": [],
   "source": [
    "df.loc[df[\"season\"] == \"?\", 'season'] = \"Unknown season\""
   ]
  },
  {
   "cell_type": "code",
   "execution_count": 9,
   "id": "a60c497f-e8c2-4e2d-a001-1d3699197da5",
   "metadata": {},
   "outputs": [
    {
     "data": {
      "text/plain": [
       "2007-2008         380\n",
       "2008-2009         380\n",
       "2009-2010         380\n",
       "2010-2011         380\n",
       "2011-2012         380\n",
       "2012-2013         380\n",
       "2013-2014         380\n",
       "2014-2015         380\n",
       "2015-2016         380\n",
       "2016-2017         380\n",
       "2017-2018         380\n",
       "2006-2007         349\n",
       "Unknown season     31\n",
       "Name: season, dtype: int64"
      ]
     },
     "execution_count": 9,
     "metadata": {},
     "output_type": "execute_result"
    }
   ],
   "source": [
    "df[\"season\"].value_counts()"
   ]
  },
  {
   "cell_type": "markdown",
   "id": "7e946267-070f-4926-8fd1-e0296cd7e79e",
   "metadata": {},
   "source": [
    "---"
   ]
  },
  {
   "cell_type": "markdown",
   "id": "4ddd340a-d941-4efc-a860-9044af76d230",
   "metadata": {},
   "source": [
    "### Task 2: Wrong goal count\n",
    "\n",
    "If you keep exploring, you'll see that several matches have the wrong number of goals assigned. Take some time to analyze these invalid values and answer:\n",
    "\n",
    "How many invalid goals do you see both for `home_goals` and `away_goals`:\n",
    "\n",
    "* 34 invalid `home_goals` and 39 invalid `away_goals` values\n",
    "* 27 invalid `home_goals` and 43 invalid `away_goals` values\n",
    "* 41 invalid `home_goals` and 24 invalid `away_goals` values\n",
    "* 12 invalid `home_goals` and 19 invalid `away_goals` values\n",
    "\n",
    "Get extra morale points by using a visualization to check for these invalid values!\n",
    "\n",
    "Once you've identify them, make sure you change any invalid goal values to `0`. This is going to be **IMPORTANT** for a upcoming activity."
   ]
  },
  {
   "cell_type": "code",
   "execution_count": null,
   "id": "548a022a-b1a7-4589-a94f-eb7ab7c0743d",
   "metadata": {},
   "outputs": [],
   "source": []
  },
  {
   "cell_type": "code",
   "execution_count": null,
   "id": "c0225a5d-5630-40c9-9258-9c90acd9fdc5",
   "metadata": {},
   "outputs": [],
   "source": []
  },
  {
   "cell_type": "code",
   "execution_count": null,
   "id": "f39e403f-5b32-42e0-be67-235ac1a9d267",
   "metadata": {},
   "outputs": [],
   "source": []
  },
  {
   "cell_type": "markdown",
   "id": "309a817a-5e55-4bcf-b438-2fcfba18ead4",
   "metadata": {
    "jp-MarkdownHeadingCollapsed": true,
    "tags": []
   },
   "source": [
    "##### Solution"
   ]
  },
  {
   "cell_type": "markdown",
   "id": "efecb1a9-7fb6-4026-82ad-1f88254e3ce8",
   "metadata": {},
   "source": [
    "We can start by using a histogram and a boxplot to plot all the possible values that either `home_goals` or `away_goals` take:"
   ]
  },
  {
   "cell_type": "code",
   "execution_count": 10,
   "id": "3c3229c5-eaf6-4333-9571-2ca13aaeb0a8",
   "metadata": {},
   "outputs": [
    {
     "data": {
      "text/plain": [
       "<AxesSubplot:ylabel='Frequency'>"
      ]
     },
     "execution_count": 10,
     "metadata": {},
     "output_type": "execute_result"
    },
    {
     "data": {
      "image/png": "[encoded data removed]",
      "text/plain": [
       "<Figure size 432x288 with 1 Axes>"
      ]
     },
     "metadata": {
      "needs_background": "light"
     },
     "output_type": "display_data"
    }
   ],
   "source": [
    "df[['home_goals', 'away_goals']].plot(kind='hist')"
   ]
  },
  {
   "cell_type": "code",
   "execution_count": 16,
   "id": "e17a70bd-3fef-4924-bef0-f9ba89550b9b",
   "metadata": {},
   "outputs": [
    {
     "data": {
      "text/plain": [
       "<AxesSubplot:>"
      ]
     },
     "execution_count": 16,
     "metadata": {},
     "output_type": "execute_result"
    },
    {
     "data": {
      "image/png": "[encoded data removed]",
      "text/plain": [
       "<Figure size 432x288 with 1 Axes>"
      ]
     },
     "metadata": {
      "needs_background": "light"
     },
     "output_type": "display_data"
    }
   ],
   "source": [
    "df[['home_goals', 'away_goals']].plot(kind='box', vert=False)"
   ]
  },
  {
   "cell_type": "markdown",
   "id": "b0a52c05-fb2b-4e3e-89bc-610e6d91076a",
   "metadata": {},
   "source": [
    "By looking at these visualizations, you can see that there are several **negative** values, which is impossible (the lowest possible number of goals in a football match is `0`).\n",
    "\n",
    "We can now count, how many of these there are."
   ]
  },
  {
   "cell_type": "code",
   "execution_count": 12,
   "id": "48aabd2a-966f-431f-a057-b3deaf0d79b2",
   "metadata": {},
   "outputs": [
    {
     "data": {
      "text/plain": [
       "(34, 6)"
      ]
     },
     "execution_count": 12,
     "metadata": {},
     "output_type": "execute_result"
    }
   ],
   "source": [
    "df.loc[df['home_goals'] < 0].shape"
   ]
  },
  {
   "cell_type": "code",
   "execution_count": 13,
   "id": "de30bb15-4093-475e-8dcc-93d05b9f1739",
   "metadata": {},
   "outputs": [
    {
     "data": {
      "text/plain": [
       "(39, 6)"
      ]
     },
     "execution_count": 13,
     "metadata": {},
     "output_type": "execute_result"
    }
   ],
   "source": [
    "df.loc[df['away_goals'] < 0].shape"
   ]
  },
  {
   "cell_type": "markdown",
   "id": "327a1dcd-65a9-4c51-bff0-004f90f3a6ed",
   "metadata": {},
   "source": [
    "To fix the values, we just filter those invalid values and set the goal count to `0`:"
   ]
  },
  {
   "cell_type": "code",
   "execution_count": 14,
   "id": "87ec3272-8409-4b8e-855e-20615f72ab37",
   "metadata": {},
   "outputs": [],
   "source": [
    "df.loc[df['home_goals'] < 0, 'home_goals'] = 0\n",
    "df.loc[df['away_goals'] < 0, 'away_goals'] = 0"
   ]
  },
  {
   "cell_type": "markdown",
   "id": "5eacc4c3-f174-49f0-b4a0-e86c53c789ee",
   "metadata": {},
   "source": [
    "We can check our histogram again and see that there are no invalid values:"
   ]
  },
  {
   "cell_type": "code",
   "execution_count": 15,
   "id": "0126c264-1a16-4bb4-958d-b5f80e2d96cf",
   "metadata": {},
   "outputs": [
    {
     "data": {
      "text/plain": [
       "<AxesSubplot:ylabel='Frequency'>"
      ]
     },
     "execution_count": 15,
     "metadata": {},
     "output_type": "execute_result"
    },
    {
     "data": {
      "image/png": "[encoded data removed]",
      "text/plain": [
       "<Figure size 432x288 with 1 Axes>"
      ]
     },
     "metadata": {
      "needs_background": "light"
     },
     "output_type": "display_data"
    }
   ],
   "source": [
    "df[['home_goals', 'away_goals']].plot(kind='hist')"
   ]
  },
  {
   "cell_type": "markdown",
   "id": "2ea9ab2a-7c71-484f-b9f8-44aa50c121ec",
   "metadata": {},
   "source": [
    "---"
   ]
  },
  {
   "cell_type": "markdown",
   "id": "54b6c56e-d5e2-4393-a839-6932daaadd63",
   "metadata": {},
   "source": [
    "### Task 3: Invalid result\n",
    "\n",
    "How many matches contain an invalid value in the `result` column?\n",
    "\n",
    "* 43 incorrect match results\n",
    "* 38 incorrect match results\n",
    "* 47 incorrect match results\n",
    "* 32 incorrect match results\n",
    "\n",
    "Once you've identified them, fix them setting the correct value."
   ]
  },
  {
   "cell_type": "code",
   "execution_count": null,
   "id": "b5861d2d-8a21-41ab-af3c-e31305c2a9d4",
   "metadata": {},
   "outputs": [],
   "source": []
  },
  {
   "cell_type": "code",
   "execution_count": null,
   "id": "1f8dfece-bdf2-43ad-b51a-5316fb9b50be",
   "metadata": {},
   "outputs": [],
   "source": []
  },
  {
   "cell_type": "code",
   "execution_count": null,
   "id": "b6edf61f-f66f-4263-8790-e973145da8dd",
   "metadata": {},
   "outputs": [],
   "source": []
  },
  {
   "cell_type": "markdown",
   "id": "cb115ab9-e518-4e96-bef6-0aee396a37fa",
   "metadata": {
    "jp-MarkdownHeadingCollapsed": true,
    "tags": []
   },
   "source": [
    "##### Solution"
   ]
  },
  {
   "cell_type": "markdown",
   "id": "dc5ac97c-480d-47c0-805f-13f042592f0b",
   "metadata": {},
   "source": [
    "It's easy to spot wrong values by using the `values_count()` method:"
   ]
  },
  {
   "cell_type": "code",
   "execution_count": 17,
   "id": "4a7d12e8-5812-403f-a8c1-3a11c95bd12c",
   "metadata": {},
   "outputs": [
    {
     "data": {
      "text/plain": [
       "H    2088\n",
       "A    1278\n",
       "D    1151\n",
       "?      43\n",
       "Name: result, dtype: int64"
      ]
     },
     "execution_count": 17,
     "metadata": {},
     "output_type": "execute_result"
    }
   ],
   "source": [
    "df['result'].value_counts()"
   ]
  },
  {
   "cell_type": "markdown",
   "id": "f3a4a1aa-a85b-47bf-83cf-e0a9773a93ce",
   "metadata": {},
   "source": [
    "The value `?` is clearly invalid, there are `43` matches with an invalid result.\n",
    "\n",
    "Now, to fix them, it's a little bit more tricky. We can use multiple methods, but here's what I consider the simplest:"
   ]
  },
  {
   "cell_type": "code",
   "execution_count": 18,
   "id": "94fe6524-b11f-45b9-ab64-af33a57dd3d0",
   "metadata": {},
   "outputs": [],
   "source": [
    "df.loc[df['home_goals'] == df['away_goals'], 'result'] = 'D'\n",
    "df.loc[df['home_goals'] > df['away_goals'], 'result'] = 'H'\n",
    "df.loc[df['home_goals'] < df['away_goals'], 'result'] = 'A'"
   ]
  },
  {
   "cell_type": "code",
   "execution_count": 19,
   "id": "2e8085c5-1fde-49b2-b7f8-692b0c2c8505",
   "metadata": {},
   "outputs": [
    {
     "data": {
      "text/plain": [
       "H    2107\n",
       "A    1294\n",
       "D    1159\n",
       "Name: result, dtype: int64"
      ]
     },
     "execution_count": 19,
     "metadata": {},
     "output_type": "execute_result"
    }
   ],
   "source": [
    "df['result'].value_counts()"
   ]
  },
  {
   "cell_type": "markdown",
   "id": "85e0e954-3246-4c3a-a0fe-59710cf66299",
   "metadata": {},
   "source": [
    "---"
   ]
  },
  {
   "cell_type": "markdown",
   "id": "e88fc1dc-700a-4e79-88ca-f9263da4d12d",
   "metadata": {},
   "source": [
    "### Task 4: Avg goals per match\n",
    "\n",
    "What's the average amount of goals per match, rounded to 2 decimals?\n",
    "\n",
    "**WARNING!** to solve this activity, we're considering that you've fixed the negative goal values from the previous activity. If you want to be sure, run the following lines and it shouldn't fail:"
   ]
  },
  {
   "cell_type": "code",
   "execution_count": 22,
   "id": "16431b98-c089-43a1-97a5-25746a6c200e",
   "metadata": {},
   "outputs": [],
   "source": [
    "assert (df['home_goals'] < 0).sum() == 0\n",
    "assert (df['away_goals'] < 0).sum() == 0"
   ]
  },
  {
   "cell_type": "code",
   "execution_count": 21,
   "id": "383aba97-a1c4-4106-9ff4-7d99b4d28738",
   "metadata": {},
   "outputs": [],
   "source": [
    "# place your answer here (1.12, 2.30, etc)"
   ]
  },
  {
   "cell_type": "code",
   "execution_count": null,
   "id": "df1ccb35-a699-469c-adb7-06e8e27b9d70",
   "metadata": {},
   "outputs": [],
   "source": []
  },
  {
   "cell_type": "code",
   "execution_count": null,
   "id": "479f3214-2a96-4db1-ac40-6b2f7aaa8eea",
   "metadata": {},
   "outputs": [],
   "source": []
  },
  {
   "cell_type": "markdown",
   "id": "23c97265-8b2f-4317-a94f-5afebe495c1e",
   "metadata": {
    "jp-MarkdownHeadingCollapsed": true,
    "tags": []
   },
   "source": [
    "##### Solution"
   ]
  },
  {
   "cell_type": "markdown",
   "id": "08380c88-5569-49ef-b87c-c1255c5981ff",
   "metadata": {},
   "source": [
    "It's easy to calculate by first adding up all the goals ina match, and then calculating the mean:"
   ]
  },
  {
   "cell_type": "code",
   "execution_count": 23,
   "id": "a6dfeef8-5bb3-48d0-97a7-3472f986bb2b",
   "metadata": {},
   "outputs": [
    {
     "data": {
      "text/plain": [
       "2.6633771929824563"
      ]
     },
     "execution_count": 23,
     "metadata": {},
     "output_type": "execute_result"
    }
   ],
   "source": [
    "(df['home_goals'] + df['away_goals']).mean()"
   ]
  },
  {
   "cell_type": "markdown",
   "id": "59f2d1ab-c113-4f25-a72c-53cec666794c",
   "metadata": {},
   "source": [
    "Another solution would be to create a new column: `total_goals`, and add both values. Then we can calculate the mean goals per match:"
   ]
  },
  {
   "cell_type": "code",
   "execution_count": 24,
   "id": "7d2559aa-e640-415f-8017-6de3b72e8422",
   "metadata": {},
   "outputs": [],
   "source": [
    "df['total_goals'] = df['home_goals'] + df['away_goals']"
   ]
  },
  {
   "cell_type": "code",
   "execution_count": 25,
   "id": "a8cd040c-d214-4af9-a222-7975885581b0",
   "metadata": {},
   "outputs": [
    {
     "data": {
      "text/plain": [
       "2.6633771929824563"
      ]
     },
     "execution_count": 25,
     "metadata": {},
     "output_type": "execute_result"
    }
   ],
   "source": [
    "df['total_goals'].mean()"
   ]
  },
  {
   "cell_type": "markdown",
   "id": "b74576e9-34f5-4498-acaa-70acca58fbe0",
   "metadata": {},
   "source": [
    "---"
   ]
  },
  {
   "cell_type": "markdown",
   "id": "5e3acd78-c776-479d-b564-5f817791486a",
   "metadata": {},
   "source": [
    "### Task 5: Avg goals per season\n",
    "\n",
    "Use any aggregation method that you feel comfortable with, and answer: what was the (valid) season with the LOWEST average goals per game.\n",
    "\n",
    "* 2006-2007\n",
    "* 2007-2008\n",
    "* 2014-2015\n",
    "* 2008-2009"
   ]
  },
  {
   "cell_type": "code",
   "execution_count": null,
   "id": "b69342db-6163-48aa-8e31-c40e1bdf3467",
   "metadata": {},
   "outputs": [],
   "source": []
  },
  {
   "cell_type": "code",
   "execution_count": null,
   "id": "5ef88e26-9f3e-4bd2-b74e-44edb518ae5a",
   "metadata": {},
   "outputs": [],
   "source": []
  },
  {
   "cell_type": "code",
   "execution_count": null,
   "id": "7402e75c-21a1-4d3f-9eaf-51c6f5786c16",
   "metadata": {},
   "outputs": [],
   "source": []
  },
  {
   "cell_type": "markdown",
   "id": "27750203-8884-4439-90ec-30cfab45954f",
   "metadata": {
    "jp-MarkdownHeadingCollapsed": true,
    "tags": []
   },
   "source": [
    "##### Solution"
   ]
  },
  {
   "cell_type": "markdown",
   "id": "7a86ecd1-1d61-4644-92c7-fa71ef8a3313",
   "metadata": {},
   "source": [
    "If you've previously created the `total_goals` column, the solution is pretty simple using the `groupby()` method:"
   ]
  },
  {
   "cell_type": "code",
   "execution_count": 27,
   "id": "f49df6f5-d183-4671-8201-44f032eb6805",
   "metadata": {},
   "outputs": [
    {
     "data": {
      "text/plain": [
       "season\n",
       "Unknown season    2.419355\n",
       "2006-2007         2.429799\n",
       "2008-2009         2.463158\n",
       "2014-2015         2.500000\n",
       "2007-2008         2.618421\n",
       "2015-2016         2.676316\n",
       "2017-2018         2.678947\n",
       "2013-2014         2.718421\n",
       "2009-2010         2.747368\n",
       "2011-2012         2.763158\n",
       "2012-2013         2.773684\n",
       "2016-2017         2.794737\n",
       "2010-2011         2.797368\n",
       "Name: total_goals, dtype: float64"
      ]
     },
     "execution_count": 27,
     "metadata": {},
     "output_type": "execute_result"
    }
   ],
   "source": [
    "df.groupby('season')['total_goals'].mean().sort_values()"
   ]
  },
  {
   "cell_type": "markdown",
   "id": "c518bf40-5c3f-4d58-86eb-4f028e198b33",
   "metadata": {},
   "source": [
    "The first value, `Unknown season`, is an invalid season, so we don't consider it. We see that `2006-2007` is the next season with the lowest goal average."
   ]
  },
  {
   "cell_type": "markdown",
   "id": "67df0f1c-f69b-44d3-941c-4f408a143118",
   "metadata": {},
   "source": [
    "If you rather feel more comfortable with Pivot Tables, here's the expression you can use:"
   ]
  },
  {
   "cell_type": "code",
   "execution_count": 28,
   "id": "f894f0b6-d2cc-4b4b-94c8-704e54d31cd7",
   "metadata": {},
   "outputs": [
    {
     "data": {
      "text/html": [
       "<div>\n",
       "<style scoped>\n",
       "    .dataframe tbody tr th:only-of-type {\n",
       "        vertical-align: middle;\n",
       "    }\n",
       "\n",
       "    .dataframe tbody tr th {\n",
       "        vertical-align: top;\n",
       "    }\n",
       "\n",
       "    .dataframe thead th {\n",
       "        text-align: right;\n",
       "    }\n",
       "</style>\n",
       "<table border=\"1\" class=\"dataframe\">\n",
       "  <thead>\n",
       "    <tr style=\"text-align: right;\">\n",
       "      <th></th>\n",
       "      <th>total_goals</th>\n",
       "    </tr>\n",
       "    <tr>\n",
       "      <th>season</th>\n",
       "      <th></th>\n",
       "    </tr>\n",
       "  </thead>\n",
       "  <tbody>\n",
       "    <tr>\n",
       "      <th>Unknown season</th>\n",
       "      <td>2.419355</td>\n",
       "    </tr>\n",
       "    <tr>\n",
       "      <th>2006-2007</th>\n",
       "      <td>2.429799</td>\n",
       "    </tr>\n",
       "    <tr>\n",
       "      <th>2008-2009</th>\n",
       "      <td>2.463158</td>\n",
       "    </tr>\n",
       "    <tr>\n",
       "      <th>2014-2015</th>\n",
       "      <td>2.500000</td>\n",
       "    </tr>\n",
       "    <tr>\n",
       "      <th>2007-2008</th>\n",
       "      <td>2.618421</td>\n",
       "    </tr>\n",
       "    <tr>\n",
       "      <th>2015-2016</th>\n",
       "      <td>2.676316</td>\n",
       "    </tr>\n",
       "    <tr>\n",
       "      <th>2017-2018</th>\n",
       "      <td>2.678947</td>\n",
       "    </tr>\n",
       "    <tr>\n",
       "      <th>2013-2014</th>\n",
       "      <td>2.718421</td>\n",
       "    </tr>\n",
       "    <tr>\n",
       "      <th>2009-2010</th>\n",
       "      <td>2.747368</td>\n",
       "    </tr>\n",
       "    <tr>\n",
       "      <th>2011-2012</th>\n",
       "      <td>2.763158</td>\n",
       "    </tr>\n",
       "    <tr>\n",
       "      <th>2012-2013</th>\n",
       "      <td>2.773684</td>\n",
       "    </tr>\n",
       "    <tr>\n",
       "      <th>2016-2017</th>\n",
       "      <td>2.794737</td>\n",
       "    </tr>\n",
       "    <tr>\n",
       "      <th>2010-2011</th>\n",
       "      <td>2.797368</td>\n",
       "    </tr>\n",
       "  </tbody>\n",
       "</table>\n",
       "</div>"
      ],
      "text/plain": [
       "                total_goals\n",
       "season                     \n",
       "Unknown season     2.419355\n",
       "2006-2007          2.429799\n",
       "2008-2009          2.463158\n",
       "2014-2015          2.500000\n",
       "2007-2008          2.618421\n",
       "2015-2016          2.676316\n",
       "2017-2018          2.678947\n",
       "2013-2014          2.718421\n",
       "2009-2010          2.747368\n",
       "2011-2012          2.763158\n",
       "2012-2013          2.773684\n",
       "2016-2017          2.794737\n",
       "2010-2011          2.797368"
      ]
     },
     "execution_count": 28,
     "metadata": {},
     "output_type": "execute_result"
    }
   ],
   "source": [
    "pd.pivot_table(\n",
    "    df, values=['total_goals'], index=['season'], aggfunc=np.mean\n",
    ").sort_values('total_goals')"
   ]
  },
  {
   "cell_type": "markdown",
   "id": "1b364644-0a1c-4a9b-809c-e647b7b17670",
   "metadata": {},
   "source": [
    "Finally, if you have NOT created the new column `total_goals`, it's still possible to answer the question, although it's a little bit trickier:"
   ]
  },
  {
   "cell_type": "code",
   "execution_count": 29,
   "id": "66b8afa3-d3e8-48ec-99fb-f9a693c95d8e",
   "metadata": {},
   "outputs": [
    {
     "data": {
      "text/plain": [
       "season\n",
       "Unknown season    2.419355\n",
       "2006-2007         2.429799\n",
       "2008-2009         2.463158\n",
       "2014-2015         2.500000\n",
       "2007-2008         2.618421\n",
       "2015-2016         2.676316\n",
       "2017-2018         2.678947\n",
       "2013-2014         2.718421\n",
       "2009-2010         2.747368\n",
       "2011-2012         2.763158\n",
       "2012-2013         2.773684\n",
       "2016-2017         2.794737\n",
       "2010-2011         2.797368\n",
       "dtype: float64"
      ]
     },
     "execution_count": 29,
     "metadata": {},
     "output_type": "execute_result"
    }
   ],
   "source": [
    "df.groupby('season').apply(\n",
    "    lambda rows: (rows['home_goals'] + rows['away_goals']).mean()\n",
    ").sort_values()"
   ]
  },
  {
   "cell_type": "markdown",
   "id": "cb3cfd9c-528b-4e91-9bb9-a9bd14cf11ad",
   "metadata": {},
   "source": [
    "---"
   ]
  },
  {
   "cell_type": "markdown",
   "id": "f5eeae19-13d1-42f1-9337-2bc119de891d",
   "metadata": {},
   "source": [
    "### Task 6: Biggest goal differences in a match\n",
    "\n",
    "What's the biggest historical differences of goals scored in a match? For example, a match that was `11-1` for the home team has a difference of `10`.\n",
    "\n",
    "* 8 goals difference\n",
    "* 12 goals difference\n",
    "* 6 goals difference\n",
    "* 14 goals difference"
   ]
  },
  {
   "cell_type": "code",
   "execution_count": null,
   "id": "21eddb39-9b85-487d-9e80-4c9c36a3392a",
   "metadata": {},
   "outputs": [],
   "source": []
  },
  {
   "cell_type": "code",
   "execution_count": null,
   "id": "fbcf9013-083c-4f35-b2f1-ebe70c03f1a2",
   "metadata": {},
   "outputs": [],
   "source": []
  },
  {
   "cell_type": "code",
   "execution_count": null,
   "id": "21749795-a093-4e93-8d98-604246fa26ea",
   "metadata": {},
   "outputs": [],
   "source": []
  },
  {
   "cell_type": "markdown",
   "id": "84619e0e-4b5c-4bcc-ad98-43d98aa0adf8",
   "metadata": {
    "jp-MarkdownHeadingCollapsed": true,
    "tags": []
   },
   "source": [
    "##### Solution"
   ]
  },
  {
   "cell_type": "markdown",
   "id": "4897907c-5694-4392-bb29-5584a9ce0204",
   "metadata": {},
   "source": [
    "The solution is just simply subtracting home and away goals, but using the `abs` function to remove the sign. For example, `abs(11 - 1)` is the same as `abs(1 - 11)`, which is `10`. We can do then:"
   ]
  },
  {
   "cell_type": "code",
   "execution_count": 30,
   "id": "1398c6e4-ad37-45d7-b710-14f886f7aa9f",
   "metadata": {},
   "outputs": [
    {
     "data": {
      "text/plain": [
       "3116    8\n",
       "1514    8\n",
       "2458    8\n",
       "1265    8\n",
       "2753    7\n",
       "dtype: int64"
      ]
     },
     "execution_count": 30,
     "metadata": {},
     "output_type": "execute_result"
    }
   ],
   "source": [
    "(df['home_goals'] - df['away_goals']).abs().sort_values(ascending=False).head()"
   ]
  },
  {
   "cell_type": "markdown",
   "id": "e83ea056-e723-4f16-ae47-312ed1c6f7d9",
   "metadata": {},
   "source": [
    "`8` goals was the maximum difference. We can see also explore those particular games."
   ]
  },
  {
   "cell_type": "markdown",
   "id": "47bb7c6c-c5a7-43f9-af95-fd7119f2391b",
   "metadata": {},
   "source": [
    "---"
   ]
  },
  {
   "cell_type": "markdown",
   "id": "419a9b18-1b36-44c5-920a-c818ce79a4ed",
   "metadata": {},
   "source": [
    "### Task 7: Team with most away wins\n",
    "\n",
    "Which is the team with most away wins?\n",
    "\n",
    "* Chelsea\n",
    "* Manchester United\n",
    "* Arsenal\n",
    "* Manchester City"
   ]
  },
  {
   "cell_type": "code",
   "execution_count": null,
   "id": "963878a2-787f-44af-95ed-477fea095f29",
   "metadata": {},
   "outputs": [],
   "source": []
  },
  {
   "cell_type": "code",
   "execution_count": null,
   "id": "1af431ae-fd1c-4f73-baa8-4044514d5ad8",
   "metadata": {},
   "outputs": [],
   "source": []
  },
  {
   "cell_type": "code",
   "execution_count": null,
   "id": "1f842751-a429-4419-b6b0-bdbefe2dfc31",
   "metadata": {},
   "outputs": [],
   "source": []
  },
  {
   "cell_type": "markdown",
   "id": "22ff01a1-4809-41bb-8159-d0d66f7ad03f",
   "metadata": {
    "jp-MarkdownHeadingCollapsed": true,
    "tags": []
   },
   "source": [
    "##### Solution"
   ]
  },
  {
   "cell_type": "markdown",
   "id": "e90ddbc2-7ebe-45c4-bdcb-7d8238f9adbc",
   "metadata": {},
   "source": [
    "The trick to answer this is to understand that in Python, booleans are integers. If you're not sure of what I'm talking about, here's a post on the subject: https://blog.rmotr.com/those-tricky-python-booleans-2100d5df92c\n",
    "\n",
    "What we can do to get the result is then:"
   ]
  },
  {
   "cell_type": "code",
   "execution_count": 31,
   "id": "2fc5e9d4-6cbf-4398-9eb7-ae633e4874be",
   "metadata": {},
   "outputs": [
    {
     "data": {
      "text/plain": [
       "away_team\n",
       "Chelsea              120\n",
       "Manchester United    117\n",
       "Arsenal              103\n",
       "Manchester City       98\n",
       "Liverpool             98\n",
       "Tottenham Hotspur     90\n",
       "Everton               66\n",
       "Aston Villa           53\n",
       "West Ham United       43\n",
       "Newcastle United      41\n",
       "dtype: int64"
      ]
     },
     "execution_count": 31,
     "metadata": {},
     "output_type": "execute_result"
    }
   ],
   "source": [
    "df.groupby('away_team').apply(\n",
    "    lambda rows: (rows['away_goals'] > rows['home_goals']).sum()\n",
    ").sort_values(ascending=False).head(10)"
   ]
  },
  {
   "cell_type": "markdown",
   "id": "27662b0c-fa5d-4a36-993b-5ef3ca06e0fc",
   "metadata": {},
   "source": [
    "We could also use the `result` column that we've fixed before:"
   ]
  },
  {
   "cell_type": "code",
   "execution_count": 33,
   "id": "6af418e7-7356-4fa0-a243-99b676bdbaac",
   "metadata": {},
   "outputs": [
    {
     "data": {
      "text/plain": [
       "away_team\n",
       "Chelsea              120\n",
       "Manchester United    117\n",
       "Arsenal              103\n",
       "Manchester City       98\n",
       "Liverpool             98\n",
       "dtype: int64"
      ]
     },
     "execution_count": 33,
     "metadata": {},
     "output_type": "execute_result"
    }
   ],
   "source": [
    "df.groupby('away_team').apply(\n",
    "    lambda rows: (rows['result'] == 'A').sum()\n",
    ").sort_values(ascending=False).head()"
   ]
  },
  {
   "cell_type": "markdown",
   "id": "05eb264f-841d-45d6-9167-6b5d85a3b4c9",
   "metadata": {},
   "source": [
    "---"
   ]
  },
  {
   "cell_type": "markdown",
   "id": "bb298c4d-96bc-4b45-9fab-9a9c98bd6a95",
   "metadata": {},
   "source": [
    "### Task 8: Team with most scored goals at home\n",
    "\n",
    "Which is the team with the most scored goals at home? The total number of goals scored at home for a given team.\n",
    "\n",
    "* Manchester City\n",
    "* Manchester United\n",
    "* Chelsea\n",
    "* Arsenal\n",
    "* Liverpool"
   ]
  },
  {
   "cell_type": "code",
   "execution_count": null,
   "id": "f873a3db-e8b9-4837-afca-cb8886ccbd1c",
   "metadata": {},
   "outputs": [],
   "source": []
  },
  {
   "cell_type": "code",
   "execution_count": null,
   "id": "a3bbe4b8-db13-4ea8-9b4a-dafa65831c6f",
   "metadata": {},
   "outputs": [],
   "source": []
  },
  {
   "cell_type": "code",
   "execution_count": null,
   "id": "051f0691-86c1-4e40-9a23-8da3bf8c1b28",
   "metadata": {},
   "outputs": [],
   "source": []
  },
  {
   "cell_type": "markdown",
   "id": "5d5c9410-5c55-43c5-afe4-aa73d9527f07",
   "metadata": {
    "jp-MarkdownHeadingCollapsed": true,
    "tags": []
   },
   "source": [
    "##### Solution"
   ]
  },
  {
   "cell_type": "markdown",
   "id": "5c6ca055-573f-45f7-b7b5-6fbc0ccb3358",
   "metadata": {},
   "source": [
    "This is another simple grouping method:"
   ]
  },
  {
   "cell_type": "code",
   "execution_count": 36,
   "id": "f92f7e8f-9722-4186-bf2c-92a09e1aa650",
   "metadata": {},
   "outputs": [
    {
     "data": {
      "text/plain": [
       "home_team\n",
       "Manchester City      499\n",
       "Manchester United    495\n",
       "Chelsea              488\n",
       "Arsenal              471\n",
       "Liverpool            459\n",
       "Tottenham Hotspur    414\n",
       "Everton              392\n",
       "West Ham United      283\n",
       "Newcastle United     267\n",
       "Stoke City           244\n",
       "Name: home_goals, dtype: int64"
      ]
     },
     "execution_count": 36,
     "metadata": {},
     "output_type": "execute_result"
    }
   ],
   "source": [
    "df.groupby('home_team')['home_goals'].sum().sort_values(ascending=False).head(10)"
   ]
  },
  {
   "cell_type": "code",
   "execution_count": null,
   "id": "fa8a9aa0-f9d2-49c0-b494-d4e134d6003f",
   "metadata": {},
   "outputs": [],
   "source": []
  }
 ],
 "metadata": {
  "kernelspec": {
   "display_name": "Python 3 (ipykernel)",
   "language": "python",
   "name": "python3"
  },
  "language_info": {
   "codemirror_mode": {
    "name": "ipython",
    "version": 3
   },
   "file_extension": ".py",
   "mimetype": "text/x-python",
   "name": "python",
   "nbconvert_exporter": "python",
   "pygments_lexer": "ipython3",
   "version": "3.8.0"
  }
 },
 "nbformat": 4,
 "nbformat_minor": 5
}
